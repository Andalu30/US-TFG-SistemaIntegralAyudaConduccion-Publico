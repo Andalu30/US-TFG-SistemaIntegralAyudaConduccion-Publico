{
 "cells": [
  {
   "cell_type": "code",
   "execution_count": 41,
   "metadata": {},
   "outputs": [],
   "source": [
    "from tensorflow.keras.models import Sequential\n",
    "from tensorflow.keras.layers import Dense, Conv2D, Flatten, Dropout, MaxPooling2D\n",
    "from tensorflow.keras.preprocessing.image import ImageDataGenerator\n",
    "\n",
    "import tensorflow as tf\n",
    "import os\n",
    "import numpy as np\n",
    "import matplotlib.pyplot as plt\n",
    "import datetime"
   ]
  },
  {
   "cell_type": "code",
   "execution_count": 42,
   "metadata": {},
   "outputs": [],
   "source": [
    "batch_size = 512\n",
    "epochs = 10\n",
    "IMG_HEIGHT = 100\n",
    "IMG_WIDTH = 100"
   ]
  },
  {
   "cell_type": "code",
   "execution_count": 43,
   "metadata": {},
   "outputs": [
    {
     "name": "stdout",
     "output_type": "stream",
     "text": [
      "Found 27703 images belonging to 2 classes.\n",
      "Found 7900 images belonging to 2 classes.\n"
     ]
    }
   ],
   "source": [
    "train_dir = '/mnt/Datos/Descargas/LISA traffic light dataset/imgSeparadas/trainDAY/'\n",
    "\n",
    "train_image_generator = ImageDataGenerator() # Generator for our training data\n",
    "train_data_gen = train_image_generator.flow_from_directory(batch_size=batch_size,\n",
    "                                                           directory=train_dir,\n",
    "                                                           shuffle=True,\n",
    "                                                           target_size=(IMG_HEIGHT, IMG_WIDTH),\n",
    "                                                           class_mode='binary')\n",
    "\n",
    "validation_dir = '/mnt/Datos/Descargas/LISA traffic light dataset/imgSeparadas/dayseq1/'\n",
    "validation_image_generator = ImageDataGenerator() # Generator for our validation data\n",
    "val_data_gen = validation_image_generator.flow_from_directory(batch_size=batch_size,\n",
    "                                                              directory=validation_dir,\n",
    "                                                              target_size=(IMG_HEIGHT, IMG_WIDTH),\n",
    "                                                              class_mode='binary')"
   ]
  },
  {
   "cell_type": "code",
   "execution_count": 45,
   "metadata": {},
   "outputs": [],
   "source": [
    "model = tf.keras.Sequential([\n",
    "    tf.keras.layers.Flatten(input_shape=(100, 100,3)),\n",
    "    tf.keras.layers.Dense(32, activation='relu'),\n",
    "    tf.keras.layers.Dense(64, activation='relu'),\n",
    "    tf.keras.layers.Dense(32, activation='relu'),\n",
    "    tf.keras.layers.Dense(2, activation='softmax')\n",
    "])\n"
   ]
  },
  {
   "cell_type": "code",
   "execution_count": 46,
   "metadata": {},
   "outputs": [],
   "source": [
    "model.compile(optimizer='adam',\n",
    "              loss='sparse_categorical_crossentropy',\n",
    "              metrics=['accuracy'])"
   ]
  },
  {
   "cell_type": "code",
   "execution_count": 47,
   "metadata": {},
   "outputs": [],
   "source": [
    "# Configuracion de los logs y de Tensorboard.\n",
    "log_dir=\"logs/testnuevo/\" + datetime.datetime.now().strftime(\"%Y%m%d-%H%M%S\")\n",
    "tensorboard_callback = tf.keras.callbacks.TensorBoard(log_dir=log_dir)"
   ]
  },
  {
   "cell_type": "code",
   "execution_count": 51,
   "metadata": {},
   "outputs": [
    {
     "data": {
      "text/html": [
       "\n",
       "      <iframe id=\"tensorboard-frame-2689a6b49271168e\" width=\"100%\" height=\"800\" frameborder=\"0\">\n",
       "      </iframe>\n",
       "      <script>\n",
       "        (function() {\n",
       "          const frame = document.getElementById(\"tensorboard-frame-2689a6b49271168e\");\n",
       "          const url = new URL(\"/\", window.location);\n",
       "          url.port = 6006;\n",
       "          frame.src = url;\n",
       "        })();\n",
       "      </script>\n",
       "  "
      ],
      "text/plain": [
       "<IPython.core.display.HTML object>"
      ]
     },
     "metadata": {},
     "output_type": "display_data"
    }
   ],
   "source": [
    "%load_ext tensorboard\n",
    "%tensorboard --logdir logs/testnuevo"
   ]
  },
  {
   "cell_type": "code",
   "execution_count": 52,
   "metadata": {},
   "outputs": [
    {
     "name": "stdout",
     "output_type": "stream",
     "text": [
      "WARNING:tensorflow:sample_weight modes were coerced from\n",
      "  ...\n",
      "    to  \n",
      "  ['...']\n",
      "WARNING:tensorflow:sample_weight modes were coerced from\n",
      "  ...\n",
      "    to  \n",
      "  ['...']\n",
      "Train for 55 steps, validate for 16 steps\n",
      "Epoch 1/10\n",
      "55/55 [==============================] - 21s 376ms/step - loss: 20.6640 - accuracy: 0.9318 - val_loss: 12.5808 - val_accuracy: 0.8866\n",
      "Epoch 2/10\n",
      "55/55 [==============================] - 20s 370ms/step - loss: 0.3106 - accuracy: 0.9965 - val_loss: 6.7454 - val_accuracy: 0.9495\n",
      "Epoch 3/10\n",
      "55/55 [==============================] - 20s 370ms/step - loss: 0.2236 - accuracy: 0.9975 - val_loss: 10.5896 - val_accuracy: 0.9363\n",
      "Epoch 4/10\n",
      "55/55 [==============================] - 21s 373ms/step - loss: 0.3898 - accuracy: 0.9964 - val_loss: 40.7495 - val_accuracy: 0.8811\n",
      "Epoch 5/10\n",
      "55/55 [==============================] - 21s 375ms/step - loss: 0.4108 - accuracy: 0.9961 - val_loss: 35.4827 - val_accuracy: 0.8911\n",
      "Epoch 6/10\n",
      "55/55 [==============================] - 20s 372ms/step - loss: 0.1369 - accuracy: 0.9984 - val_loss: 3.7808 - val_accuracy: 0.9701\n",
      "Epoch 7/10\n",
      "55/55 [==============================] - 20s 368ms/step - loss: 0.1532 - accuracy: 0.9986 - val_loss: 7.5815 - val_accuracy: 0.9624\n",
      "Epoch 8/10\n",
      "55/55 [==============================] - 20s 365ms/step - loss: 0.0378 - accuracy: 0.9994 - val_loss: 9.0443 - val_accuracy: 0.9432\n",
      "Epoch 9/10\n",
      "55/55 [==============================] - 20s 367ms/step - loss: 0.0181 - accuracy: 0.9997 - val_loss: 12.1083 - val_accuracy: 0.9271\n",
      "Epoch 10/10\n",
      "55/55 [==============================] - 20s 371ms/step - loss: 0.0881 - accuracy: 0.9989 - val_loss: 4.2331 - val_accuracy: 0.9656\n"
     ]
    },
    {
     "data": {
      "text/plain": [
       "<tensorflow.python.keras.callbacks.History at 0x7f3a00654e10>"
      ]
     },
     "execution_count": 52,
     "metadata": {},
     "output_type": "execute_result"
    }
   ],
   "source": [
    "#model.fit(train_data_gen, val_data_gen, epochs=10, callbacks=[tensorboard_callback])\n",
    "\n",
    "model.fit_generator(train_data_gen,\n",
    "                    steps_per_epoch=None,\n",
    "                    epochs=epochs,\n",
    "                    verbose=1, \n",
    "                    callbacks=[tensorboard_callback], \n",
    "                    validation_data=val_data_gen, \n",
    "                    validation_steps=None, \n",
    "                    validation_freq=1, \n",
    "                    class_weight=None, \n",
    "                    max_queue_size=10, \n",
    "                    shuffle=True)"
   ]
  },
  {
   "cell_type": "code",
   "execution_count": 53,
   "metadata": {},
   "outputs": [
    {
     "data": {
      "image/png": "[encoded data removed]",
      "text/plain": [
       "<Figure size 432x288 with 1 Axes>"
      ]
     },
     "metadata": {
      "needs_background": "light"
     },
     "output_type": "display_data"
    }
   ],
   "source": [
    "#Testing\n",
    "import cv2\n",
    "test_img = cv2.imread('/mnt/Datos/Descargas/LISA traffic light dataset/imgSeparadas/dayseq1/stop/10.jpg')\n",
    "test_img = cv2.resize(test_img, (100,100))\n",
    "plt.imshow(test_img)\n",
    "test_img = np.expand_dims(test_img, axis=0)\n"
   ]
  },
  {
   "cell_type": "code",
   "execution_count": 54,
   "metadata": {},
   "outputs": [
    {
     "name": "stdout",
     "output_type": "stream",
     "text": [
      "[[1. 0.]]\n"
     ]
    }
   ],
   "source": [
    "predict = model.predict(test_img)\n",
    "print(predict)"
   ]
  },
  {
   "cell_type": "code",
   "execution_count": 55,
   "metadata": {},
   "outputs": [
    {
     "name": "stdout",
     "output_type": "stream",
     "text": [
      "1.0\n",
      "0.0\n"
     ]
    },
    {
     "data": {
      "text/plain": [
       "0"
      ]
     },
     "execution_count": 55,
     "metadata": {},
     "output_type": "execute_result"
    }
   ],
   "source": [
    "print(np.max(predict[0]))\n",
    "print(np.min(predict[0]))\n",
    "\n",
    "np.argmax(predict[0])"
   ]
  },
  {
   "cell_type": "code",
   "execution_count": 56,
   "metadata": {},
   "outputs": [],
   "source": [
    "model.save('nuevoModeloBinario10epochs.h5')"
   ]
  },
  {
   "cell_type": "code",
   "execution_count": null,
   "metadata": {},
   "outputs": [],
   "source": []
  }
 ],
 "metadata": {
  "kernelspec": {
   "display_name": "System3.6",
   "language": "python",
   "name": "system3.6"
  },
  "language_info": {
   "codemirror_mode": {
    "name": "ipython",
    "version": 3
   },
   "file_extension": ".py",
   "mimetype": "text/x-python",
   "name": "python",
   "nbconvert_exporter": "python",
   "pygments_lexer": "ipython3",
   "version": "3.6.10"
  }
 },
 "nbformat": 4,
 "nbformat_minor": 4
}
